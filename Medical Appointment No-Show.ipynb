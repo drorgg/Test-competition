{
 "cells": [
  {
   "cell_type": "code",
   "execution_count": 1,
   "metadata": {},
   "outputs": [],
   "source": [
    "import pandas as pd\n",
    "import matplotlib.pyplot as plt\n",
    "import numpy as np\n",
    "import seaborn as sns\n",
    "from sklearn.base import BaseEstimator, TransformerMixin\n",
    "from sklearn.model_selection import train_test_split, cross_val_score\n",
    "from sklearn.linear_model import LogisticRegression\n",
    "from sklearn.metrics import confusion_matrix, roc_curve\n",
    "from sklearn.tree import DecisionTreeClassifier, export_graphviz\n",
    "from sklearn.svm import SVC\n",
    "from sklearn.neighbors import KNeighborsClassifier\n",
    "from sklearn.ensemble import RandomForestClassifier\n",
    "from sklearn.model_selection import GridSearchCV\n",
    "from sklearn.metrics import fbeta_score, make_scorer\n",
    "from sklearn.pipeline import Pipeline\n",
    "from mpl_toolkits.mplot3d import Axes3D\n",
    "from matplotlib import cm\n",
    "from matplotlib.ticker import LinearLocator, FormatStrFormatter\n",
    "from sklearn.decomposition import PCA\n",
    "from pprint import pprint\n",
    "from sklearn.ensemble import VotingClassifier\n",
    "\n",
    "%matplotlib inline"
   ]
  },
  {
   "cell_type": "markdown",
   "metadata": {},
   "source": [
    "# The data"
   ]
  },
  {
   "cell_type": "code",
   "execution_count": 2,
   "metadata": {},
   "outputs": [],
   "source": [
    "medical_orig = pd.read_csv('medical.csv', index_col='AppointmentID', parse_dates=[3, 4])\n",
    "medical_orig.drop('PatientId', axis=1, inplace=True)\n",
    "# medical_orig.head()"
   ]
  },
  {
   "cell_type": "markdown",
   "metadata": {},
   "source": [
    "## Inspection and preparation"
   ]
  },
  {
   "cell_type": "markdown",
   "metadata": {},
   "source": [
    "Here we make preparations that are NOT part of the processing pipeline."
   ]
  },
  {
   "cell_type": "code",
   "execution_count": 3,
   "metadata": {},
   "outputs": [
    {
     "name": "stdout",
     "output_type": "stream",
     "text": [
      "<class 'pandas.core.frame.DataFrame'>\n",
      "Int64Index: 110527 entries, 5642903 to 5629448\n",
      "Data columns (total 12 columns):\n",
      "Gender            110527 non-null object\n",
      "ScheduledDay      110527 non-null datetime64[ns]\n",
      "AppointmentDay    110527 non-null datetime64[ns]\n",
      "Age               110527 non-null int64\n",
      "Neighbourhood     110527 non-null object\n",
      "Scholarship       110527 non-null int64\n",
      "Hipertension      110527 non-null int64\n",
      "Diabetes          110527 non-null int64\n",
      "Alcoholism        110527 non-null int64\n",
      "Handcap           110527 non-null int64\n",
      "SMS_received      110527 non-null int64\n",
      "No-show           110527 non-null object\n",
      "dtypes: datetime64[ns](2), int64(7), object(3)\n",
      "memory usage: 11.0+ MB\n"
     ]
    }
   ],
   "source": [
    "medical_orig.info()"
   ]
  },
  {
   "cell_type": "code",
   "execution_count": 4,
   "metadata": {},
   "outputs": [],
   "source": [
    "# medical_orig.describe()"
   ]
  },
  {
   "cell_type": "markdown",
   "metadata": {},
   "source": [
    "Extracting useful (hopefully) information"
   ]
  },
  {
   "cell_type": "code",
   "execution_count": 5,
   "metadata": {},
   "outputs": [],
   "source": [
    "medical_orig['ScheduledHour'] = medical_orig['ScheduledDay'].dt.hour\n",
    "medical_orig['AwaitingTime'] = (medical_orig['AppointmentDay'] - \\\n",
    "                                medical_orig['ScheduledDay']).dt.days + 1\n",
    "medical_orig.drop('ScheduledDay', axis=1, inplace=True)"
   ]
  },
  {
   "cell_type": "markdown",
   "metadata": {},
   "source": [
    "> **NOTE:** _ScheduledHour_ is the hour of **scheduling** and not the hour of the appointment."
   ]
  },
  {
   "cell_type": "code",
   "execution_count": 6,
   "metadata": {},
   "outputs": [],
   "source": [
    "medical_orig['Weekday'] = medical_orig['AppointmentDay'].dt.dayofweek\n",
    "medical_orig['Month'] = medical_orig['AppointmentDay'].dt.month\n",
    "medical_orig.drop('AppointmentDay', axis=1, inplace=True)"
   ]
  },
  {
   "cell_type": "code",
   "execution_count": 7,
   "metadata": {},
   "outputs": [],
   "source": [
    "medical_orig.drop('Neighbourhood', axis=1, inplace=True)"
   ]
  },
  {
   "cell_type": "markdown",
   "metadata": {},
   "source": [
    "> **NOTE:** _Neighbourhood_ is actually a potentially useful feature, but we drop it in favor of simplifying this demo."
   ]
  },
  {
   "cell_type": "code",
   "execution_count": 8,
   "metadata": {},
   "outputs": [],
   "source": [
    "medical_orig.Handcap.value_counts()\n",
    "medical_orig.drop('Handcap', axis=1, inplace=True)"
   ]
  },
  {
   "cell_type": "markdown",
   "metadata": {},
   "source": [
    "> **NOTE:** We decide to drop _Handcap_ since it is mostly 0, and also it looks irrelevant for the target. Run _pd.pivot_\\__table(data=medical, index='Handcap', columns='No-show', values='Gender', aggfunc='count')_ to convince yourself. This is where we should consider dimentionality reduction tools."
   ]
  },
  {
   "cell_type": "markdown",
   "metadata": {},
   "source": [
    "Removing infeasible data"
   ]
  },
  {
   "cell_type": "code",
   "execution_count": 9,
   "metadata": {},
   "outputs": [],
   "source": [
    "medical_orig = medical_orig[medical_orig.AwaitingTime >= 0]\n",
    "medical_orig = medical_orig[medical_orig.Age >= 0]"
   ]
  },
  {
   "cell_type": "markdown",
   "metadata": {},
   "source": [
    "Current status..."
   ]
  },
  {
   "cell_type": "code",
   "execution_count": 10,
   "metadata": {},
   "outputs": [],
   "source": [
    "# medical_orig.head()"
   ]
  },
  {
   "cell_type": "markdown",
   "metadata": {},
   "source": [
    "> **NOTE:** There are still some categorical columns (e.g. _Age_, _Handcap_, etc.), but they have numerical values, so we deal with them later. The following _nunique()_ application clears it."
   ]
  },
  {
   "cell_type": "code",
   "execution_count": 11,
   "metadata": {},
   "outputs": [
    {
     "data": {
      "text/plain": [
       "Gender             2\n",
       "Age              103\n",
       "Scholarship        2\n",
       "Hipertension       2\n",
       "Diabetes           2\n",
       "Alcoholism         2\n",
       "SMS_received       2\n",
       "No-show            2\n",
       "ScheduledHour     16\n",
       "AwaitingTime     129\n",
       "Weekday            6\n",
       "Month              3\n",
       "dtype: int64"
      ]
     },
     "execution_count": 11,
     "metadata": {},
     "output_type": "execute_result"
    }
   ],
   "source": [
    "medical_orig.apply(pd.Series.nunique)"
   ]
  },
  {
   "cell_type": "markdown",
   "metadata": {},
   "source": [
    "## Assessment"
   ]
  },
  {
   "cell_type": "markdown",
   "metadata": {},
   "source": [
    "### Imbalanced sizes"
   ]
  },
  {
   "cell_type": "markdown",
   "metadata": {},
   "source": [
    "We note that one of the classes ('Yes') is much more rare. We will use the _class_\\__weight_ argument to mitigate this issue."
   ]
  },
  {
   "cell_type": "code",
   "execution_count": 12,
   "metadata": {},
   "outputs": [
    {
     "data": {
      "text/plain": [
       "No     88207\n",
       "Yes    22314\n",
       "Name: No-show, dtype: int64"
      ]
     },
     "execution_count": 12,
     "metadata": {},
     "output_type": "execute_result"
    }
   ],
   "source": [
    "no_shows = medical_orig['No-show'].value_counts()\n",
    "no_shows"
   ]
  },
  {
   "cell_type": "markdown",
   "metadata": {},
   "source": [
    "### Imbalanced importances"
   ]
  },
  {
   "cell_type": "markdown",
   "metadata": {},
   "source": [
    "We consider 'Yes' to be the positive label, i.e. patients who did _not_ show to their appointment. The business scenario we may consider is that the clinic would like to contact patients who are likely to not show and remind them about the appointment. In this scenario, since calling is rather cheap comparing with the financial loss of missing an appointment, a clinic may prefer to call even patients with lower chances of missing their appointment. This means that in this business scenario **recall is more importanty than precision**, and we would like our score to reflect that."
   ]
  },
  {
   "cell_type": "markdown",
   "metadata": {},
   "source": [
    "### $F_{\\beta}$"
   ]
  },
  {
   "cell_type": "markdown",
   "metadata": {},
   "source": [
    "$F_{\\beta}$ is exactly such a measure. It exposes a parameter $\\beta$ which allows to specify which class is more important. In a nutshell, it follows the logic below:\n",
    "\n",
    "* $\\beta < 1$ - precision is more important\n",
    "* $\\beta > 1$ - recall is more important"
   ]
  },
  {
   "cell_type": "markdown",
   "metadata": {},
   "source": [
    "To illustrate how it works, let's consider two models with **results we consider to be equivalent business-wise** and see how the selection of $\\beta$ controls which is preferred. Without being too precise, we take one model with $r=0.9$ (recall) and $p=0.4$ and a second model with $r=0.8$ (recall) and $p=0.7$, ."
   ]
  },
  {
   "cell_type": "code",
   "execution_count": 13,
   "metadata": {},
   "outputs": [],
   "source": [
    "betas = pd.Series(np.linspace(1, 10, 30))"
   ]
  },
  {
   "cell_type": "code",
   "execution_count": 14,
   "metadata": {},
   "outputs": [],
   "source": [
    "def calc_fbeta(b, p, r):\n",
    "    return (1 + b**2) * r * p / (b**2*p + r)"
   ]
  },
  {
   "cell_type": "code",
   "execution_count": 15,
   "metadata": {},
   "outputs": [
    {
     "data": {
      "text/html": [
       "<div>\n",
       "<style scoped>\n",
       "    .dataframe tbody tr th:only-of-type {\n",
       "        vertical-align: middle;\n",
       "    }\n",
       "\n",
       "    .dataframe tbody tr th {\n",
       "        vertical-align: top;\n",
       "    }\n",
       "\n",
       "    .dataframe thead th {\n",
       "        text-align: right;\n",
       "    }\n",
       "</style>\n",
       "<table border=\"1\" class=\"dataframe\">\n",
       "  <thead>\n",
       "    <tr style=\"text-align: right;\">\n",
       "      <th></th>\n",
       "      <th>Beta</th>\n",
       "      <th>Model1</th>\n",
       "      <th>Model2</th>\n",
       "    </tr>\n",
       "  </thead>\n",
       "  <tbody>\n",
       "    <tr>\n",
       "      <th>0</th>\n",
       "      <td>1.000000</td>\n",
       "      <td>0.553846</td>\n",
       "      <td>0.746667</td>\n",
       "    </tr>\n",
       "    <tr>\n",
       "      <th>1</th>\n",
       "      <td>1.310345</td>\n",
       "      <td>0.616411</td>\n",
       "      <td>0.760038</td>\n",
       "    </tr>\n",
       "    <tr>\n",
       "      <th>2</th>\n",
       "      <td>1.620690</td>\n",
       "      <td>0.669308</td>\n",
       "      <td>0.769681</td>\n",
       "    </tr>\n",
       "    <tr>\n",
       "      <th>3</th>\n",
       "      <td>1.931034</td>\n",
       "      <td>0.711838</td>\n",
       "      <td>0.776541</td>\n",
       "    </tr>\n",
       "    <tr>\n",
       "      <th>4</th>\n",
       "      <td>2.241379</td>\n",
       "      <td>0.745335</td>\n",
       "      <td>0.781467</td>\n",
       "    </tr>\n",
       "  </tbody>\n",
       "</table>\n",
       "</div>"
      ],
      "text/plain": [
       "       Beta    Model1    Model2\n",
       "0  1.000000  0.553846  0.746667\n",
       "1  1.310345  0.616411  0.760038\n",
       "2  1.620690  0.669308  0.769681\n",
       "3  1.931034  0.711838  0.776541\n",
       "4  2.241379  0.745335  0.781467"
      ]
     },
     "execution_count": 15,
     "metadata": {},
     "output_type": "execute_result"
    }
   ],
   "source": [
    "Fb = pd.DataFrame({'Beta': betas,\n",
    "                   'Model1': betas.apply(calc_fbeta, r=0.9, p=0.4),\n",
    "                   'Model2': betas.apply(calc_fbeta, r=0.8, p=0.7)})\n",
    "Fb.head()"
   ]
  },
  {
   "cell_type": "markdown",
   "metadata": {},
   "source": [
    "Thus the required $\\beta$ is..."
   ]
  },
  {
   "cell_type": "code",
   "execution_count": 16,
   "metadata": {},
   "outputs": [
    {
     "name": "stdout",
     "output_type": "stream",
     "text": [
      "2.86206896552\n"
     ]
    }
   ],
   "source": [
    "best_beta_ind = (Fb.Model1 - Fb.Model2).abs().idxmin()\n",
    "my_beta = Fb.Beta[best_beta_ind]\n",
    "print my_beta"
   ]
  },
  {
   "cell_type": "markdown",
   "metadata": {},
   "source": [
    "#### Illustration 1"
   ]
  },
  {
   "cell_type": "markdown",
   "metadata": {},
   "source": [
    "The $F_{\\beta}$ score of the \"just-say-yes\" classifier can be calculated as follows."
   ]
  },
  {
   "cell_type": "code",
   "execution_count": 17,
   "metadata": {},
   "outputs": [
    {
     "data": {
      "text/plain": [
       "0.20189828177450439"
      ]
     },
     "execution_count": 17,
     "metadata": {},
     "output_type": "execute_result"
    }
   ],
   "source": [
    "precision = float(no_shows['Yes'])/(no_shows['Yes'] + no_shows['No'])\n",
    "precision"
   ]
  },
  {
   "cell_type": "code",
   "execution_count": 18,
   "metadata": {},
   "outputs": [],
   "source": [
    "recall = 1.0"
   ]
  },
  {
   "cell_type": "code",
   "execution_count": 19,
   "metadata": {},
   "outputs": [
    {
     "data": {
      "text/plain": [
       "0.69926502854284978"
      ]
     },
     "execution_count": 19,
     "metadata": {},
     "output_type": "execute_result"
    }
   ],
   "source": [
    "calc_fbeta(my_beta, precision, recall)"
   ]
  },
  {
   "cell_type": "markdown",
   "metadata": {},
   "source": [
    "This value will be our benchmark."
   ]
  },
  {
   "cell_type": "markdown",
   "metadata": {},
   "source": [
    "#### Illustration 2"
   ]
  },
  {
   "cell_type": "markdown",
   "metadata": {},
   "source": [
    "Using the [_plot_\\__surface()_ example from the gallery][surface]\n",
    "\n",
    "[surface]: https://matplotlib.org/examples/mplot3d/surface3d_demo.html \"plot_surface example\""
   ]
  },
  {
   "cell_type": "code",
   "execution_count": 20,
   "metadata": {},
   "outputs": [
    {
     "data": {
      "image/png": "[encoded data removed]",
      "text/plain": [
       "<matplotlib.figure.Figure at 0x1465d358>"
      ]
     },
     "metadata": {},
     "output_type": "display_data"
    }
   ],
   "source": [
    "fig = plt.figure(figsize=(15, 10))\n",
    "ax = fig.gca(projection='3d')\n",
    "\n",
    "# Make data.\n",
    "precision = np.arange(0.01, 1, 0.01)\n",
    "recall = np.arange(0.01, 1, 0.01)\n",
    "P, R = np.meshgrid(precision, recall)\n",
    "b=my_beta\n",
    "Z = (1+b**2)*(P*R)/(b**2*P + R)\n",
    "\n",
    "# Plot the surface.\n",
    "surf = ax.plot_surface(P, R, Z, cmap=cm.coolwarm,\n",
    "                       linewidth=0, antialiased=False)\n",
    "\n",
    "# Customize the z axis.\n",
    "ax.set_zlim(-0.01, 1.01)\n",
    "ax.zaxis.set_major_locator(LinearLocator(10))\n",
    "ax.zaxis.set_major_formatter(FormatStrFormatter('%.02f'))\n",
    "ax.set_xlabel('Precision')\n",
    "ax.set_ylabel('Recall')\n",
    "ax.set_zlabel('$F_b$')\n",
    "\n",
    "# Add a color bar which maps values to colors.\n",
    "fig.colorbar(surf, shrink=0.5, aspect=5)\n",
    "\n",
    "plt.show()"
   ]
  },
  {
   "cell_type": "markdown",
   "metadata": {},
   "source": [
    "## Visualization"
   ]
  },
  {
   "cell_type": "markdown",
   "metadata": {},
   "source": [
    "### Age"
   ]
  },
  {
   "cell_type": "code",
   "execution_count": 21,
   "metadata": {},
   "outputs": [
    {
     "data": {
      "text/plain": [
       "<matplotlib.axes._subplots.AxesSubplot at 0x1465d080>"
      ]
     },
     "execution_count": 21,
     "metadata": {},
     "output_type": "execute_result"
    },
    {
     "data": {
      "image/png": "[encoded data removed]",
      "text/plain": [
       "<matplotlib.figure.Figure at 0xe269c88>"
      ]
     },
     "metadata": {},
     "output_type": "display_data"
    }
   ],
   "source": [
    "medical_orig['Age'].hist(bins=medical_orig.Age.nunique()+1, figsize=(12, 4))"
   ]
  },
  {
   "cell_type": "markdown",
   "metadata": {},
   "source": [
    "> **NOTE:** The peaks in the Age histogram are the result of combined bins and should be ignored. To verify this, one can increase the _bins_ value."
   ]
  },
  {
   "cell_type": "markdown",
   "metadata": {},
   "source": [
    "### AwaitingTime"
   ]
  },
  {
   "cell_type": "code",
   "execution_count": 22,
   "metadata": {},
   "outputs": [
    {
     "data": {
      "text/plain": [
       "<matplotlib.axes._subplots.AxesSubplot at 0xe269b70>"
      ]
     },
     "execution_count": 22,
     "metadata": {},
     "output_type": "execute_result"
    },
    {
     "data": {
      "image/png": "[encoded data removed]",
      "text/plain": [
       "<matplotlib.figure.Figure at 0x1338b9b0>"
      ]
     },
     "metadata": {},
     "output_type": "display_data"
    }
   ],
   "source": [
    "medical_orig.AwaitingTime.plot.hist(bins=100)"
   ]
  },
  {
   "cell_type": "markdown",
   "metadata": {},
   "source": [
    "Let's zoom-in without the out-of-proportion 0 and the long tail."
   ]
  },
  {
   "cell_type": "code",
   "execution_count": 23,
   "metadata": {},
   "outputs": [
    {
     "data": {
      "text/plain": [
       "<matplotlib.axes._subplots.AxesSubplot at 0xe118630>"
      ]
     },
     "execution_count": 23,
     "metadata": {},
     "output_type": "execute_result"
    },
    {
     "data": {
      "image/png": "[encoded data removed]",
      "text/plain": [
       "<matplotlib.figure.Figure at 0x145ec1d0>"
      ]
     },
     "metadata": {},
     "output_type": "display_data"
    }
   ],
   "source": [
    "medical_orig.AwaitingTime.plot.hist(bins=100, range=(1, 50))"
   ]
  },
  {
   "cell_type": "markdown",
   "metadata": {},
   "source": [
    "It looks like there are peaks around full-weeks-ahead scheduling. My assumption is that this is a result of scheduling made at the end of a current appointment. Let's see if this has any influence on the yes-to-no ratio."
   ]
  },
  {
   "cell_type": "code",
   "execution_count": 24,
   "metadata": {},
   "outputs": [
    {
     "name": "stdout",
     "output_type": "stream",
     "text": [
      "0.408112787534\n"
     ]
    }
   ],
   "source": [
    "AT_full_weeks = medical_orig[(medical_orig.AwaitingTime).isin([7, 14, 21, 28])]\n",
    "yn = AT_full_weeks.groupby('No-show')['Gender'].count()\n",
    "print float(yn['Yes']) / yn['No']"
   ]
  },
  {
   "cell_type": "markdown",
   "metadata": {},
   "source": [
    "**YES.** This means we should definitely create a new column with the relevant information."
   ]
  },
  {
   "cell_type": "code",
   "execution_count": 25,
   "metadata": {},
   "outputs": [],
   "source": [
    "medical_orig['follow-up'] = medical_orig.AwaitingTime.isin([7, 14, 21, 28]).astype(int)"
   ]
  },
  {
   "cell_type": "markdown",
   "metadata": {},
   "source": [
    "### ScheduledHour"
   ]
  },
  {
   "cell_type": "code",
   "execution_count": 26,
   "metadata": {},
   "outputs": [
    {
     "data": {
      "text/plain": [
       "<matplotlib.axes._subplots.AxesSubplot at 0x139f4588>"
      ]
     },
     "execution_count": 26,
     "metadata": {},
     "output_type": "execute_result"
    },
    {
     "data": {
      "image/png": "[encoded data removed]",
      "text/plain": [
       "<matplotlib.figure.Figure at 0x148a62b0>"
      ]
     },
     "metadata": {},
     "output_type": "display_data"
    }
   ],
   "source": [
    "pt = pd.pivot_table(data=medical_orig, \n",
    "                    index='ScheduledHour', \n",
    "                    columns='No-show', \n",
    "                    values='Gender', \n",
    "                    aggfunc='count')\n",
    "pt.plot.bar()"
   ]
  },
  {
   "cell_type": "code",
   "execution_count": 27,
   "metadata": {},
   "outputs": [
    {
     "data": {
      "text/plain": [
       "<matplotlib.axes._subplots.AxesSubplot at 0x13cfa7b8>"
      ]
     },
     "execution_count": 27,
     "metadata": {},
     "output_type": "execute_result"
    },
    {
     "data": {
      "image/png": "[encoded data removed]",
      "text/plain": [
       "<matplotlib.figure.Figure at 0xde8a4e0>"
      ]
     },
     "metadata": {},
     "output_type": "display_data"
    }
   ],
   "source": [
    "yn = medical_orig.groupby(['ScheduledHour','No-show'])['Gender'].count().unstack()\n",
    "yn['ratio'] = yn['Yes'] / yn['No']\n",
    "yn['ratio'].plot.bar()"
   ]
  },
  {
   "cell_type": "markdown",
   "metadata": {},
   "source": [
    "### Weekday"
   ]
  },
  {
   "cell_type": "code",
   "execution_count": 28,
   "metadata": {},
   "outputs": [
    {
     "data": {
      "text/plain": [
       "<matplotlib.axes._subplots.AxesSubplot at 0x1324d630>"
      ]
     },
     "execution_count": 28,
     "metadata": {},
     "output_type": "execute_result"
    },
    {
     "data": {
      "image/png": "[encoded data removed]",
      "text/plain": [
       "<matplotlib.figure.Figure at 0x1326b320>"
      ]
     },
     "metadata": {},
     "output_type": "display_data"
    }
   ],
   "source": [
    "pt = pd.pivot_table(data=medical_orig, \n",
    "                    index='Weekday', \n",
    "                    columns='No-show', \n",
    "                    values='Gender', \n",
    "                    aggfunc='count')\n",
    "pt.plot.bar()"
   ]
  },
  {
   "cell_type": "markdown",
   "metadata": {},
   "source": [
    "### Month"
   ]
  },
  {
   "cell_type": "code",
   "execution_count": 29,
   "metadata": {},
   "outputs": [
    {
     "data": {
      "text/plain": [
       "<matplotlib.axes._subplots.AxesSubplot at 0x142717f0>"
      ]
     },
     "execution_count": 29,
     "metadata": {},
     "output_type": "execute_result"
    },
    {
     "data": {
      "image/png": "[encoded data removed]",
      "text/plain": [
       "<matplotlib.figure.Figure at 0x12b289e8>"
      ]
     },
     "metadata": {},
     "output_type": "display_data"
    }
   ],
   "source": [
    "pt = pd.pivot_table(data=medical_orig, \n",
    "                    index='Month', \n",
    "                    columns='No-show', \n",
    "                    values='Gender', \n",
    "                    aggfunc='count')\n",
    "pt.plot.bar()"
   ]
  },
  {
   "cell_type": "markdown",
   "metadata": {},
   "source": [
    "It seems the month has no significant influence, so we drop it."
   ]
  },
  {
   "cell_type": "code",
   "execution_count": 30,
   "metadata": {},
   "outputs": [],
   "source": [
    "medical_orig.drop('Month', axis=1, inplace=True)"
   ]
  },
  {
   "cell_type": "markdown",
   "metadata": {},
   "source": [
    "### Saving the prepared data"
   ]
  },
  {
   "cell_type": "markdown",
   "metadata": {},
   "source": [
    "The process above is a preparation of the data so that it is more convenient to apply machine learning algorithms to. We therefore save it for future steps."
   ]
  },
  {
   "cell_type": "code",
   "execution_count": 31,
   "metadata": {},
   "outputs": [],
   "source": [
    "medical_orig.to_csv('medical_prep.csv')"
   ]
  },
  {
   "cell_type": "markdown",
   "metadata": {},
   "source": [
    "## Preprocessing"
   ]
  },
  {
   "cell_type": "code",
   "execution_count": 32,
   "metadata": {},
   "outputs": [],
   "source": [
    "medical_prep = pd.read_csv('medical_prep.csv', index_col='AppointmentID')\n",
    "# medical_prep.head()"
   ]
  },
  {
   "cell_type": "markdown",
   "metadata": {},
   "source": [
    "> **NOTE:** **_medical_\\__prep_** refers to the data _prior_ to the pipeline. In other words, it is the input to the pipeline."
   ]
  },
  {
   "cell_type": "markdown",
   "metadata": {},
   "source": [
    "### Binned data"
   ]
  },
  {
   "cell_type": "code",
   "execution_count": 33,
   "metadata": {},
   "outputs": [],
   "source": [
    "class Digitizer(BaseEstimator, TransformerMixin):\n",
    "    def __init__(self, colname, bins):\n",
    "        self.colname = colname\n",
    "        self.bins = bins\n",
    "    def fit(self, X, y=None):\n",
    "        self.labels = ['{}-{}'.format(low, high) \n",
    "                       for low, high in zip(self.bins[:-1], self.bins[1:])]        \n",
    "        return self\n",
    "    def transform(self, X, y=None):    \n",
    "        X_copy = X.copy()\n",
    "        binned = pd.cut(X_copy[self.colname], \n",
    "                        bins=self.bins, \n",
    "                        labels=self.labels, \n",
    "                        include_lowest=True)\n",
    "        X_copy[self.colname] = binned.astype(str)\n",
    "        return X_copy"
   ]
  },
  {
   "cell_type": "markdown",
   "metadata": {},
   "source": [
    "> **WARNING:** _self.labels_ must be evaluated within the _fit()_ method and **not** within the \\_\\_init\\_\\_() method."
   ]
  },
  {
   "cell_type": "code",
   "execution_count": 34,
   "metadata": {},
   "outputs": [],
   "source": [
    "age_digitizer = Digitizer('Age', [0, 0.01, 2, 6, 15, 30, 60, 120])\n",
    "scheduled_hour_digitizer = Digitizer('ScheduledHour', [10, 13, 17, 20])\n",
    "awaiting_time_digitizer = Digitizer('AwaitingTime', [0, 1, 7, 30, 99999])"
   ]
  },
  {
   "cell_type": "code",
   "execution_count": 35,
   "metadata": {},
   "outputs": [],
   "source": [
    "digitizer_pipeline = \\\n",
    "    Pipeline([('scheduled_hour_digitizer', scheduled_hour_digitizer),\n",
    "              ('awaiting_time_digitizer', awaiting_time_digitizer), \n",
    "              ('age_digitizer', age_digitizer)])"
   ]
  },
  {
   "cell_type": "code",
   "execution_count": 36,
   "metadata": {
    "scrolled": true
   },
   "outputs": [],
   "source": [
    "# digitizer_pipeline.fit_transform(medical_prep).head()"
   ]
  },
  {
   "cell_type": "markdown",
   "metadata": {},
   "source": [
    "### Categorical data"
   ]
  },
  {
   "cell_type": "code",
   "execution_count": 37,
   "metadata": {},
   "outputs": [],
   "source": [
    "class Binarizer(BaseEstimator, TransformerMixin):\n",
    "    def __init__(self, colname, drop_first):\n",
    "        self.colname = colname\n",
    "        self.drop_first = drop_first\n",
    "    def fit(self, X, y=None):\n",
    "        return self\n",
    "    def transform(self, X, y=None):\n",
    "        dummies = pd.get_dummies(X[self.colname], \n",
    "                                 prefix=self.colname, \n",
    "                                 columns=[self.colname], \n",
    "                                 drop_first=self.drop_first)\n",
    "        X_no_col = X.drop(self.colname, axis=1, inplace=False)\n",
    "        X_with_dummies = X_no_col.join(dummies)\n",
    "        return X_with_dummies"
   ]
  },
  {
   "cell_type": "code",
   "execution_count": 38,
   "metadata": {},
   "outputs": [],
   "source": [
    "gender_binarizer = Binarizer(colname='Gender', drop_first=True)\n",
    "weekday_binarizer = Binarizer(colname='Weekday', drop_first=False)"
   ]
  },
  {
   "cell_type": "markdown",
   "metadata": {},
   "source": [
    "**Illustration**"
   ]
  },
  {
   "cell_type": "code",
   "execution_count": 39,
   "metadata": {},
   "outputs": [],
   "source": [
    "binarizer_pipeline_1 = \\\n",
    "    Pipeline([('gender_binarizer', gender_binarizer), \n",
    "              ('weekday_binarizer', weekday_binarizer)])"
   ]
  },
  {
   "cell_type": "code",
   "execution_count": 40,
   "metadata": {},
   "outputs": [],
   "source": [
    "# binarizer_pipeline_1.fit_transform(medical_prep).head()"
   ]
  },
  {
   "cell_type": "markdown",
   "metadata": {
    "collapsed": true
   },
   "source": [
    "After digitization, the digitized columns are also categorical, therefore we can apply our binarizer."
   ]
  },
  {
   "cell_type": "code",
   "execution_count": 41,
   "metadata": {},
   "outputs": [],
   "source": [
    "age_binarizer = Binarizer(colname='Age', drop_first=False)\n",
    "scheduled_hour_binarizer = Binarizer(colname='ScheduledHour', drop_first=False)\n",
    "awaiting_time_binarizer = Binarizer(colname='AwaitingTime', drop_first=False)"
   ]
  },
  {
   "cell_type": "code",
   "execution_count": 42,
   "metadata": {},
   "outputs": [],
   "source": [
    "binarizer_pipeline_2 = \\\n",
    "    Pipeline([('age_binarizer', age_binarizer),\n",
    "              ('scheduled_hour_binarizer', scheduled_hour_binarizer), \n",
    "              ('awaiting_time_binarizer', awaiting_time_binarizer)])"
   ]
  },
  {
   "cell_type": "code",
   "execution_count": 43,
   "metadata": {},
   "outputs": [],
   "source": [
    "# binarizer_pipeline_2.fit_transform(medical_prep).head()"
   ]
  },
  {
   "cell_type": "markdown",
   "metadata": {},
   "source": [
    "## Final transformation"
   ]
  },
  {
   "cell_type": "code",
   "execution_count": 44,
   "metadata": {},
   "outputs": [],
   "source": [
    "transformer_pipeline = \\\n",
    "    Pipeline([('digitizer_pipeline', digitizer_pipeline), \n",
    "              ('binarizer_pipeline_1', binarizer_pipeline_1), \n",
    "              ('binarizer_pipeline_2', binarizer_pipeline_2)])"
   ]
  },
  {
   "cell_type": "markdown",
   "metadata": {},
   "source": [
    "**Illustration**"
   ]
  },
  {
   "cell_type": "code",
   "execution_count": 45,
   "metadata": {},
   "outputs": [],
   "source": [
    "# transformer_pipeline.fit_transform(medical_prep).head()"
   ]
  },
  {
   "cell_type": "markdown",
   "metadata": {},
   "source": [
    "# Modelling"
   ]
  },
  {
   "cell_type": "code",
   "execution_count": 46,
   "metadata": {},
   "outputs": [],
   "source": [
    "medical_prep = pd.read_csv('medical_prep.csv', index_col='AppointmentID')\n",
    "# medical_prep.head()"
   ]
  },
  {
   "cell_type": "code",
   "execution_count": 47,
   "metadata": {},
   "outputs": [],
   "source": [
    "X_train, X_test, y_train, y_test = \\\n",
    "    train_test_split(medical_prep.drop('No-show', axis=1), medical_prep['No-show'], \n",
    "                     train_size=0.7, test_size=0.3, random_state=1234)"
   ]
  },
  {
   "cell_type": "markdown",
   "metadata": {},
   "source": [
    "## Logistic regression"
   ]
  },
  {
   "cell_type": "markdown",
   "metadata": {},
   "source": [
    "### Preliminary illustration"
   ]
  },
  {
   "cell_type": "markdown",
   "metadata": {},
   "source": [
    "For the illustration we transform **_medical_\\__prep_** into **_medical_**. This is usually not necessary because we have the pipeline."
   ]
  },
  {
   "cell_type": "code",
   "execution_count": 48,
   "metadata": {},
   "outputs": [],
   "source": [
    "medical = transformer_pipeline.fit_transform(medical_prep)\n",
    "X_train, X_test, y_train, y_test = \\\n",
    "    train_test_split(medical.drop('No-show', axis=1), medical['No-show'], \n",
    "                     train_size=0.7, test_size=0.3, random_state=1234)"
   ]
  },
  {
   "cell_type": "code",
   "execution_count": 49,
   "metadata": {},
   "outputs": [],
   "source": [
    "lr_clf = LogisticRegression(C=1.0, class_weight='balanced')"
   ]
  },
  {
   "cell_type": "code",
   "execution_count": 50,
   "metadata": {},
   "outputs": [],
   "source": [
    "y_pred = lr_clf.fit(X_train, y_train).predict(X_train)"
   ]
  },
  {
   "cell_type": "code",
   "execution_count": 51,
   "metadata": {},
   "outputs": [
    {
     "data": {
      "text/html": [
       "<div>\n",
       "<style scoped>\n",
       "    .dataframe tbody tr th:only-of-type {\n",
       "        vertical-align: middle;\n",
       "    }\n",
       "\n",
       "    .dataframe tbody tr th {\n",
       "        vertical-align: top;\n",
       "    }\n",
       "\n",
       "    .dataframe thead th {\n",
       "        text-align: right;\n",
       "    }\n",
       "</style>\n",
       "<table border=\"1\" class=\"dataframe\">\n",
       "  <thead>\n",
       "    <tr style=\"text-align: right;\">\n",
       "      <th></th>\n",
       "      <th>No</th>\n",
       "      <th>Yes</th>\n",
       "    </tr>\n",
       "  </thead>\n",
       "  <tbody>\n",
       "    <tr>\n",
       "      <th>No</th>\n",
       "      <td>32571</td>\n",
       "      <td>29142</td>\n",
       "    </tr>\n",
       "    <tr>\n",
       "      <th>Yes</th>\n",
       "      <td>2943</td>\n",
       "      <td>12708</td>\n",
       "    </tr>\n",
       "  </tbody>\n",
       "</table>\n",
       "</div>"
      ],
      "text/plain": [
       "        No    Yes\n",
       "No   32571  29142\n",
       "Yes   2943  12708"
      ]
     },
     "execution_count": 51,
     "metadata": {},
     "output_type": "execute_result"
    }
   ],
   "source": [
    "cmat = confusion_matrix(y_true=y_train, \n",
    "                        y_pred=y_pred, \n",
    "                        labels=lr_clf.classes_)\n",
    "pd.DataFrame(cmat, \n",
    "             index=lr_clf.classes_, \n",
    "             columns=lr_clf.classes_)"
   ]
  },
  {
   "cell_type": "code",
   "execution_count": 52,
   "metadata": {},
   "outputs": [
    {
     "data": {
      "text/plain": [
       "0.695792791325749"
      ]
     },
     "execution_count": 52,
     "metadata": {},
     "output_type": "execute_result"
    }
   ],
   "source": [
    "calc_fbeta(my_beta, p=12971.0/(12971+30172), r=12971.0/(12971+2680))"
   ]
  },
  {
   "cell_type": "markdown",
   "metadata": {},
   "source": [
    "#### Cross validation"
   ]
  },
  {
   "cell_type": "markdown",
   "metadata": {},
   "source": [
    "Since _fbeta_\\__score()_ requires a parameter ($\\beta$), we must define a proper _Scorer_ before we apply it to the cross-validation scheme."
   ]
  },
  {
   "cell_type": "code",
   "execution_count": 53,
   "metadata": {},
   "outputs": [],
   "source": [
    "my_fbeta_score = \\\n",
    "    make_scorer(fbeta_score, beta=my_beta, pos_label='Yes', greater_is_better=True)"
   ]
  },
  {
   "cell_type": "markdown",
   "metadata": {},
   "source": [
    "> **WARNING:** The _scoring_ argument of _cross_\\__val_\\__score()_ assumes the scoring method is equivalent to the error (like for regression). Here the opposite is the case. More details can be found [here][scorer].\n",
    "\n",
    "[scorer]: http://scikit-learn.org/stable/modules/model_evaluation.html#scoring \"scoring\""
   ]
  },
  {
   "cell_type": "code",
   "execution_count": 54,
   "metadata": {},
   "outputs": [],
   "source": [
    "def show_cv_summary(scores):\n",
    "    print 'Scores:', scores\n",
    "    print 'Mean:', scores.mean()\n",
    "    print 'Std:', scores.std()"
   ]
  },
  {
   "cell_type": "code",
   "execution_count": 55,
   "metadata": {},
   "outputs": [
    {
     "name": "stdout",
     "output_type": "stream",
     "text": [
      "Scores: [ 0.68848538  0.69905918  0.68154553  0.68667694  0.68903604  0.68595233\n",
      "  0.68693416  0.67994098  0.68257782  0.69213928]\n",
      "Mean: 0.687234764051\n",
      "Std: 0.00527237827539\n"
     ]
    }
   ],
   "source": [
    "scores = cross_val_score(lr_clf, X_train, y_train, scoring=my_fbeta_score, cv=10)\n",
    "show_cv_summary(scores)"
   ]
  },
  {
   "cell_type": "markdown",
   "metadata": {},
   "source": [
    "> **NOTE:** The default cross-validation scheme is _StratifiedKFold_, which is a good choice in our case."
   ]
  },
  {
   "cell_type": "markdown",
   "metadata": {},
   "source": [
    "Thus, our first model is valid, but not very useful, as its score is lower than the benchmark."
   ]
  },
  {
   "cell_type": "markdown",
   "metadata": {},
   "source": [
    "#### Simple grid search"
   ]
  },
  {
   "cell_type": "code",
   "execution_count": 56,
   "metadata": {},
   "outputs": [
    {
     "data": {
      "text/plain": [
       "GridSearchCV(cv=None, error_score='raise',\n",
       "       estimator=LogisticRegression(C=1.0, class_weight='balanced', dual=False,\n",
       "          fit_intercept=True, intercept_scaling=1, max_iter=100,\n",
       "          multi_class='ovr', n_jobs=1, penalty='l2', random_state=None,\n",
       "          solver='liblinear', tol=0.0001, verbose=0, warm_start=False),\n",
       "       fit_params=None, iid=True, n_jobs=1,\n",
       "       param_grid={'C': [0.1, 0.2, 0.5, 1.0, 2.0, 5.0]},\n",
       "       pre_dispatch='2*n_jobs', refit=True, return_train_score='warn',\n",
       "       scoring=make_scorer(fbeta_score, beta=2.86206896552, pos_label=Yes),\n",
       "       verbose=0)"
      ]
     },
     "execution_count": 56,
     "metadata": {},
     "output_type": "execute_result"
    }
   ],
   "source": [
    "param_grid = {'C': [0.1, 0.2, 0.5, 1.0, 2.0, 5.0]}\n",
    "lr_gs = GridSearchCV(lr_clf, param_grid=param_grid, scoring=my_fbeta_score)\n",
    "lr_gs.fit(X_train, y_train)"
   ]
  },
  {
   "cell_type": "markdown",
   "metadata": {},
   "source": [
    "> **NOTE:** Fitting the _GridSearchCV_ object means fitting multiple models. This may take a while. Be careful."
   ]
  },
  {
   "cell_type": "code",
   "execution_count": 57,
   "metadata": {},
   "outputs": [
    {
     "data": {
      "text/plain": [
       "LogisticRegression(C=2.0, class_weight='balanced', dual=False,\n",
       "          fit_intercept=True, intercept_scaling=1, max_iter=100,\n",
       "          multi_class='ovr', n_jobs=1, penalty='l2', random_state=None,\n",
       "          solver='liblinear', tol=0.0001, verbose=0, warm_start=False)"
      ]
     },
     "execution_count": 57,
     "metadata": {},
     "output_type": "execute_result"
    }
   ],
   "source": [
    "lr_gs_clf = lr_gs.best_estimator_\n",
    "lr_gs_clf"
   ]
  },
  {
   "cell_type": "code",
   "execution_count": 58,
   "metadata": {},
   "outputs": [],
   "source": [
    "y_pred = lr_gs_clf.fit(X_train, y_train).predict(X_train)"
   ]
  },
  {
   "cell_type": "code",
   "execution_count": 59,
   "metadata": {},
   "outputs": [
    {
     "data": {
      "text/html": [
       "<div>\n",
       "<style scoped>\n",
       "    .dataframe tbody tr th:only-of-type {\n",
       "        vertical-align: middle;\n",
       "    }\n",
       "\n",
       "    .dataframe tbody tr th {\n",
       "        vertical-align: top;\n",
       "    }\n",
       "\n",
       "    .dataframe thead th {\n",
       "        text-align: right;\n",
       "    }\n",
       "</style>\n",
       "<table border=\"1\" class=\"dataframe\">\n",
       "  <thead>\n",
       "    <tr style=\"text-align: right;\">\n",
       "      <th></th>\n",
       "      <th>No</th>\n",
       "      <th>Yes</th>\n",
       "    </tr>\n",
       "  </thead>\n",
       "  <tbody>\n",
       "    <tr>\n",
       "      <th>No</th>\n",
       "      <td>32571</td>\n",
       "      <td>29142</td>\n",
       "    </tr>\n",
       "    <tr>\n",
       "      <th>Yes</th>\n",
       "      <td>2943</td>\n",
       "      <td>12708</td>\n",
       "    </tr>\n",
       "  </tbody>\n",
       "</table>\n",
       "</div>"
      ],
      "text/plain": [
       "        No    Yes\n",
       "No   32571  29142\n",
       "Yes   2943  12708"
      ]
     },
     "execution_count": 59,
     "metadata": {},
     "output_type": "execute_result"
    }
   ],
   "source": [
    "cmat = confusion_matrix(y_true=y_train, \n",
    "                        y_pred=y_pred, \n",
    "                        labels=lr_gs_clf.classes_)\n",
    "pd.DataFrame(cmat, \n",
    "             index=lr_gs_clf.classes_, \n",
    "             columns=lr_gs_clf.classes_)"
   ]
  },
  {
   "cell_type": "markdown",
   "metadata": {},
   "source": [
    "And looking at the score we see there is no improvement."
   ]
  },
  {
   "cell_type": "code",
   "execution_count": 60,
   "metadata": {},
   "outputs": [
    {
     "data": {
      "text/plain": [
       "0.6868680588379773"
      ]
     },
     "execution_count": 60,
     "metadata": {},
     "output_type": "execute_result"
    }
   ],
   "source": [
    "fbeta_score( y_true=y_train, y_pred=y_pred, beta=my_beta, pos_label='Yes')"
   ]
  },
  {
   "cell_type": "markdown",
   "metadata": {},
   "source": [
    "Simple grid-search didn't improve the model..."
   ]
  },
  {
   "cell_type": "markdown",
   "metadata": {},
   "source": [
    "### Using the pipeline"
   ]
  },
  {
   "cell_type": "markdown",
   "metadata": {},
   "source": [
    "> **NOTE:** Going back to use **_medical_\\__prep_** (instead of **_medical_**)."
   ]
  },
  {
   "cell_type": "code",
   "execution_count": 61,
   "metadata": {},
   "outputs": [],
   "source": [
    "X_train, X_test, y_train, y_test = \\\n",
    "    train_test_split(medical_prep.drop('No-show', axis=1), medical_prep['No-show'], \n",
    "                     train_size=0.7, test_size=0.3, random_state=1234)"
   ]
  },
  {
   "cell_type": "markdown",
   "metadata": {},
   "source": [
    "#### Simple illustration"
   ]
  },
  {
   "cell_type": "code",
   "execution_count": 62,
   "metadata": {},
   "outputs": [],
   "source": [
    "lr_pipeline = Pipeline([('transformer_pipeline', transformer_pipeline), \n",
    "                        ('lr_clf', lr_clf)])"
   ]
  },
  {
   "cell_type": "code",
   "execution_count": 63,
   "metadata": {},
   "outputs": [],
   "source": [
    "# sorted(lr_pipeline.get_params().keys())"
   ]
  },
  {
   "cell_type": "code",
   "execution_count": 64,
   "metadata": {},
   "outputs": [
    {
     "data": {
      "text/plain": [
       "Pipeline(memory=None,\n",
       "     steps=[('transformer_pipeline', Pipeline(memory=None,\n",
       "     steps=[('digitizer_pipeline', Pipeline(memory=None,\n",
       "     steps=[('scheduled_hour_digitizer', Digitizer(bins=[5, 10, 15, 23], colname='ScheduledHour')), ('awaiting_time_digitizer', Digitizer(bins=[0, 1, 7, 30, 99999], colname='AwaitingTime'))...ty='l2', random_state=None,\n",
       "          solver='liblinear', tol=0.0001, verbose=0, warm_start=False))])"
      ]
     },
     "execution_count": 64,
     "metadata": {},
     "output_type": "execute_result"
    }
   ],
   "source": [
    "lr_pipeline.set_params(transformer_pipeline__digitizer_pipeline__age_digitizer__bins=[0, 3, 15, 60, 120])"
   ]
  },
  {
   "cell_type": "code",
   "execution_count": 65,
   "metadata": {},
   "outputs": [
    {
     "name": "stdout",
     "output_type": "stream",
     "text": [
      "Scores: [ 0.69876023  0.70286896  0.69874607  0.69683232  0.69311107  0.6921328\n",
      "  0.69581014  0.69024822  0.68824828  0.69380041]\n",
      "Mean: 0.695055849713\n",
      "Std: 0.00418889470148\n"
     ]
    }
   ],
   "source": [
    "scores = cross_val_score(lr_pipeline, X_train, y_train, scoring=my_fbeta_score, cv=10)\n",
    "show_cv_summary(scores)"
   ]
  },
  {
   "cell_type": "markdown",
   "metadata": {
    "collapsed": true
   },
   "source": [
    "#### Grid search"
   ]
  },
  {
   "cell_type": "code",
   "execution_count": 66,
   "metadata": {},
   "outputs": [],
   "source": [
    "param_grid = \\\n",
    "    {'transformer_pipeline__digitizer_pipeline__age_digitizer__bins': \n",
    "     [[0, 1, 6, 18, 120], [0, 1, 6, 120], [0, 6, 18, 120], [0, 1, 18, 120]],\n",
    "     'transformer_pipeline__digitizer_pipeline__awaiting_time_digitizer__bins': \n",
    "     [[0, 1, 7, 99999], [0, 1, 14, 99999], [0, 1, 30, 99999], [0, 1, 7, 30, 99999]]}"
   ]
  },
  {
   "cell_type": "code",
   "execution_count": 67,
   "metadata": {},
   "outputs": [
    {
     "data": {
      "text/plain": [
       "GridSearchCV(cv=3, error_score='raise',\n",
       "       estimator=Pipeline(memory=None,\n",
       "     steps=[('transformer_pipeline', Pipeline(memory=None,\n",
       "     steps=[('digitizer_pipeline', Pipeline(memory=None,\n",
       "     steps=[('scheduled_hour_digitizer', Digitizer(bins=[5, 10, 15, 23], colname='ScheduledHour')), ('awaiting_time_digitizer', Digitizer(bins=[0, 1, 7, 30, 99999], colname='AwaitingTime'))...ty='l2', random_state=None,\n",
       "          solver='liblinear', tol=0.0001, verbose=0, warm_start=False))]),\n",
       "       fit_params=None, iid=True, n_jobs=1,\n",
       "       param_grid={'transformer_pipeline__digitizer_pipeline__age_digitizer__bins': [[0, 1, 6, 18, 120], [0, 1, 6, 120], [0, 6, 18, 120], [0, 1, 18, 120]], 'transformer_pipeline__digitizer_pipeline__awaiting_time_digitizer__bins': [[0, 1, 7, 99999], [0, 1, 14, 99999], [0, 1, 30, 99999], [0, 1, 7, 30, 99999]]},\n",
       "       pre_dispatch='2*n_jobs', refit=True, return_train_score='warn',\n",
       "       scoring=make_scorer(fbeta_score, beta=2.86206896552, pos_label=Yes),\n",
       "       verbose=0)"
      ]
     },
     "execution_count": 67,
     "metadata": {},
     "output_type": "execute_result"
    }
   ],
   "source": [
    "lr_gs = GridSearchCV(lr_pipeline, param_grid=param_grid, scoring=my_fbeta_score, cv=3)\n",
    "lr_gs.fit(X_train, y_train)"
   ]
  },
  {
   "cell_type": "markdown",
   "metadata": {},
   "source": [
    "> **WARNING:** The line above fits $4\\times 4\\times 3=48$ models, and this number can easily be increased. Be careful... "
   ]
  },
  {
   "cell_type": "code",
   "execution_count": 68,
   "metadata": {},
   "outputs": [],
   "source": [
    "# pprint(lr_gs.cv_results_)"
   ]
  },
  {
   "cell_type": "code",
   "execution_count": 69,
   "metadata": {},
   "outputs": [
    {
     "data": {
      "text/plain": [
       "Pipeline(memory=None,\n",
       "     steps=[('transformer_pipeline', Pipeline(memory=None,\n",
       "     steps=[('digitizer_pipeline', Pipeline(memory=None,\n",
       "     steps=[('scheduled_hour_digitizer', Digitizer(bins=[5, 10, 15, 23], colname='ScheduledHour')), ('awaiting_time_digitizer', Digitizer(bins=[0, 1, 30, 99999], colname='AwaitingTime')), (...ty='l2', random_state=None,\n",
       "          solver='liblinear', tol=0.0001, verbose=0, warm_start=False))])"
      ]
     },
     "execution_count": 69,
     "metadata": {},
     "output_type": "execute_result"
    }
   ],
   "source": [
    "lr_gs_clf = lr_gs.best_estimator_\n",
    "lr_gs_clf"
   ]
  },
  {
   "cell_type": "markdown",
   "metadata": {},
   "source": [
    "> **NOTE 1:** Since _refit=True_ by default, the attribute _best_\\__estimator_\\_ is holding a model which was fit to the entire _X_\\__train_.\n",
    "\n",
    "> **NOTE 2:** The result of the grid search (_lr_\\__gs_\\__clf_) is not an estimator but a pipeline."
   ]
  },
  {
   "cell_type": "code",
   "execution_count": 70,
   "metadata": {},
   "outputs": [],
   "source": [
    "y_pred = lr_gs_clf.fit(X_train, y_train).predict(X_train)"
   ]
  },
  {
   "cell_type": "code",
   "execution_count": 71,
   "metadata": {},
   "outputs": [
    {
     "data": {
      "text/html": [
       "<div>\n",
       "<style scoped>\n",
       "    .dataframe tbody tr th:only-of-type {\n",
       "        vertical-align: middle;\n",
       "    }\n",
       "\n",
       "    .dataframe tbody tr th {\n",
       "        vertical-align: top;\n",
       "    }\n",
       "\n",
       "    .dataframe thead th {\n",
       "        text-align: right;\n",
       "    }\n",
       "</style>\n",
       "<table border=\"1\" class=\"dataframe\">\n",
       "  <thead>\n",
       "    <tr style=\"text-align: right;\">\n",
       "      <th></th>\n",
       "      <th>No</th>\n",
       "      <th>Yes</th>\n",
       "    </tr>\n",
       "  </thead>\n",
       "  <tbody>\n",
       "    <tr>\n",
       "      <th>No</th>\n",
       "      <td>28999</td>\n",
       "      <td>32714</td>\n",
       "    </tr>\n",
       "    <tr>\n",
       "      <th>Yes</th>\n",
       "      <td>2102</td>\n",
       "      <td>13549</td>\n",
       "    </tr>\n",
       "  </tbody>\n",
       "</table>\n",
       "</div>"
      ],
      "text/plain": [
       "        No    Yes\n",
       "No   28999  32714\n",
       "Yes   2102  13549"
      ]
     },
     "execution_count": 71,
     "metadata": {},
     "output_type": "execute_result"
    }
   ],
   "source": [
    "cmat = confusion_matrix(y_true=y_train, y_pred=y_pred, labels=lr_gs_clf.classes_)\n",
    "pd.DataFrame(cmat, index=lr_gs_clf.classes_, columns=lr_gs_clf.classes_)"
   ]
  },
  {
   "cell_type": "code",
   "execution_count": 72,
   "metadata": {},
   "outputs": [
    {
     "data": {
      "text/plain": [
       "0.71380063435120644"
      ]
     },
     "execution_count": 72,
     "metadata": {},
     "output_type": "execute_result"
    }
   ],
   "source": [
    "fbeta_score(y_true=y_train, y_pred=y_pred, beta=my_beta, pos_label='Yes')"
   ]
  },
  {
   "cell_type": "markdown",
   "metadata": {},
   "source": [
    "The grid search improved our score :-)"
   ]
  },
  {
   "cell_type": "markdown",
   "metadata": {
    "collapsed": true
   },
   "source": [
    "## Decision tree"
   ]
  },
  {
   "cell_type": "markdown",
   "metadata": {},
   "source": [
    "### Preliminary illustration"
   ]
  },
  {
   "cell_type": "markdown",
   "metadata": {},
   "source": [
    "Again - for the illustration we transform **_medical_\\__prep_** into **_medical_**."
   ]
  },
  {
   "cell_type": "code",
   "execution_count": 73,
   "metadata": {},
   "outputs": [],
   "source": [
    "medical = transformer_pipeline.fit_transform(medical_prep)\n",
    "X_train, X_test, y_train, y_test = \\\n",
    "    train_test_split(medical.drop('No-show', axis=1), medical['No-show'], \n",
    "                     train_size=0.7, test_size=0.3, random_state=1234)"
   ]
  },
  {
   "cell_type": "code",
   "execution_count": 74,
   "metadata": {},
   "outputs": [],
   "source": [
    "dt_clf = DecisionTreeClassifier(max_depth=None,\n",
    "                                min_samples_split=100,\n",
    "                                min_samples_leaf=10, \n",
    "                                class_weight='balanced')"
   ]
  },
  {
   "cell_type": "markdown",
   "metadata": {},
   "source": [
    "> **NOTE:** Don't forget the _class_\\__weight_ argument..."
   ]
  },
  {
   "cell_type": "code",
   "execution_count": 75,
   "metadata": {},
   "outputs": [],
   "source": [
    "y_pred = dt_clf.fit(X_train, y_train).predict(X_train)"
   ]
  },
  {
   "cell_type": "code",
   "execution_count": 76,
   "metadata": {},
   "outputs": [
    {
     "data": {
      "text/html": [
       "<div>\n",
       "<style scoped>\n",
       "    .dataframe tbody tr th:only-of-type {\n",
       "        vertical-align: middle;\n",
       "    }\n",
       "\n",
       "    .dataframe tbody tr th {\n",
       "        vertical-align: top;\n",
       "    }\n",
       "\n",
       "    .dataframe thead th {\n",
       "        text-align: right;\n",
       "    }\n",
       "</style>\n",
       "<table border=\"1\" class=\"dataframe\">\n",
       "  <thead>\n",
       "    <tr style=\"text-align: right;\">\n",
       "      <th></th>\n",
       "      <th>No</th>\n",
       "      <th>Yes</th>\n",
       "    </tr>\n",
       "  </thead>\n",
       "  <tbody>\n",
       "    <tr>\n",
       "      <th>No</th>\n",
       "      <td>35214</td>\n",
       "      <td>26499</td>\n",
       "    </tr>\n",
       "    <tr>\n",
       "      <th>Yes</th>\n",
       "      <td>3131</td>\n",
       "      <td>12520</td>\n",
       "    </tr>\n",
       "  </tbody>\n",
       "</table>\n",
       "</div>"
      ],
      "text/plain": [
       "        No    Yes\n",
       "No   35214  26499\n",
       "Yes   3131  12520"
      ]
     },
     "execution_count": 76,
     "metadata": {},
     "output_type": "execute_result"
    }
   ],
   "source": [
    "cmat = confusion_matrix(y_true=y_train, \n",
    "                        y_pred=y_pred, \n",
    "                        labels=dt_clf.classes_)\n",
    "pd.DataFrame(cmat, \n",
    "             index=dt_clf.classes_, \n",
    "             columns=dt_clf.classes_)"
   ]
  },
  {
   "cell_type": "code",
   "execution_count": 77,
   "metadata": {},
   "outputs": [
    {
     "data": {
      "text/plain": [
       "0.68816293285417618"
      ]
     },
     "execution_count": 77,
     "metadata": {},
     "output_type": "execute_result"
    }
   ],
   "source": [
    "calc_fbeta(my_beta, p=12520.0/(12520+26499), r=12520.0/(12520+3131))"
   ]
  },
  {
   "cell_type": "markdown",
   "metadata": {},
   "source": [
    "#### Cross validation"
   ]
  },
  {
   "cell_type": "code",
   "execution_count": 78,
   "metadata": {},
   "outputs": [
    {
     "name": "stdout",
     "output_type": "stream",
     "text": [
      "Scores: [ 0.66264812  0.67352426  0.66148753  0.65489737  0.66974391  0.66187836\n",
      "  0.65224758  0.64006609  0.65082422  0.66368708]\n",
      "Mean: 0.659100451352\n",
      "Std: 0.009294073332\n"
     ]
    }
   ],
   "source": [
    "scores = cross_val_score(dt_clf, X_train, y_train, scoring=my_fbeta_score, cv=10)\n",
    "show_cv_summary(scores)"
   ]
  },
  {
   "cell_type": "markdown",
   "metadata": {},
   "source": [
    "#### Simple grid search"
   ]
  },
  {
   "cell_type": "code",
   "execution_count": 79,
   "metadata": {},
   "outputs": [
    {
     "data": {
      "text/plain": [
       "GridSearchCV(cv=3, error_score='raise',\n",
       "       estimator=DecisionTreeClassifier(class_weight='balanced', criterion='gini',\n",
       "            max_depth=None, max_features=None, max_leaf_nodes=None,\n",
       "            min_impurity_decrease=0.0, min_impurity_split=None,\n",
       "            min_samples_leaf=10, min_samples_split=100,\n",
       "            min_weight_fraction_leaf=0.0, presort=False, random_state=None,\n",
       "            splitter='best'),\n",
       "       fit_params=None, iid=True, n_jobs=1,\n",
       "       param_grid={'min_samples_split': [20, 70, 120, 170], 'max_depth': [2, 4, 6, 8], 'min_samples_leaf': [10, 20, 30, 40, 50]},\n",
       "       pre_dispatch='2*n_jobs', refit=True, return_train_score='warn',\n",
       "       scoring=make_scorer(fbeta_score, beta=2.86206896552, pos_label=Yes),\n",
       "       verbose=0)"
      ]
     },
     "execution_count": 79,
     "metadata": {},
     "output_type": "execute_result"
    }
   ],
   "source": [
    "param_grid = {'max_depth': range(2, 9, 2), \n",
    "              'min_samples_split': range(20, 200, 50), \n",
    "              'min_samples_leaf': range(10, 51, 10)}\n",
    "dt_gs = GridSearchCV(dt_clf, param_grid=param_grid, scoring=my_fbeta_score, cv=3)\n",
    "dt_gs.fit(X_train, y_train)"
   ]
  },
  {
   "cell_type": "markdown",
   "metadata": {},
   "source": [
    "> **NOTE:** This simple grid search has $5 \\times 4 \\times 5 \\times 3=300$ models..."
   ]
  },
  {
   "cell_type": "code",
   "execution_count": 80,
   "metadata": {},
   "outputs": [
    {
     "data": {
      "text/plain": [
       "DecisionTreeClassifier(class_weight='balanced', criterion='gini', max_depth=2,\n",
       "            max_features=None, max_leaf_nodes=None,\n",
       "            min_impurity_decrease=0.0, min_impurity_split=None,\n",
       "            min_samples_leaf=10, min_samples_split=20,\n",
       "            min_weight_fraction_leaf=0.0, presort=False, random_state=None,\n",
       "            splitter='best')"
      ]
     },
     "execution_count": 80,
     "metadata": {},
     "output_type": "execute_result"
    }
   ],
   "source": [
    "dt_gs_clf = dt_gs.best_estimator_\n",
    "dt_gs_clf"
   ]
  },
  {
   "cell_type": "code",
   "execution_count": 81,
   "metadata": {},
   "outputs": [],
   "source": [
    "y_pred = dt_gs_clf.fit(X_train, y_train).predict(X_train)"
   ]
  },
  {
   "cell_type": "code",
   "execution_count": 82,
   "metadata": {},
   "outputs": [
    {
     "data": {
      "text/html": [
       "<div>\n",
       "<style scoped>\n",
       "    .dataframe tbody tr th:only-of-type {\n",
       "        vertical-align: middle;\n",
       "    }\n",
       "\n",
       "    .dataframe tbody tr th {\n",
       "        vertical-align: top;\n",
       "    }\n",
       "\n",
       "    .dataframe thead th {\n",
       "        text-align: right;\n",
       "    }\n",
       "</style>\n",
       "<table border=\"1\" class=\"dataframe\">\n",
       "  <thead>\n",
       "    <tr style=\"text-align: right;\">\n",
       "      <th></th>\n",
       "      <th>No</th>\n",
       "      <th>Yes</th>\n",
       "    </tr>\n",
       "  </thead>\n",
       "  <tbody>\n",
       "    <tr>\n",
       "      <th>No</th>\n",
       "      <td>28589</td>\n",
       "      <td>33124</td>\n",
       "    </tr>\n",
       "    <tr>\n",
       "      <th>Yes</th>\n",
       "      <td>2004</td>\n",
       "      <td>13647</td>\n",
       "    </tr>\n",
       "  </tbody>\n",
       "</table>\n",
       "</div>"
      ],
      "text/plain": [
       "        No    Yes\n",
       "No   28589  33124\n",
       "Yes   2004  13647"
      ]
     },
     "execution_count": 82,
     "metadata": {},
     "output_type": "execute_result"
    }
   ],
   "source": [
    "cmat = confusion_matrix(y_true=y_train, \n",
    "                        y_pred=y_pred, \n",
    "                        labels=dt_gs_clf.classes_)\n",
    "pd.DataFrame(cmat, \n",
    "             index=dt_gs_clf.classes_, \n",
    "             columns=dt_gs_clf.classes_)"
   ]
  },
  {
   "cell_type": "markdown",
   "metadata": {},
   "source": [
    "And looking at the score we see there is no improvement."
   ]
  },
  {
   "cell_type": "code",
   "execution_count": 83,
   "metadata": {},
   "outputs": [
    {
     "data": {
      "text/plain": [
       "0.71687621450023664"
      ]
     },
     "execution_count": 83,
     "metadata": {},
     "output_type": "execute_result"
    }
   ],
   "source": [
    "fbeta_score(y_true=y_train, y_pred=y_pred, beta=my_beta, pos_label='Yes')"
   ]
  },
  {
   "cell_type": "markdown",
   "metadata": {},
   "source": [
    "Simple grid-search gave us the best model so far..."
   ]
  },
  {
   "cell_type": "markdown",
   "metadata": {},
   "source": [
    "#### Visualization"
   ]
  },
  {
   "cell_type": "code",
   "execution_count": 84,
   "metadata": {},
   "outputs": [],
   "source": [
    "export_graphviz(dt_gs_clf, \n",
    "                out_file='tree1.dot', \n",
    "                feature_names=X_train.columns,\n",
    "                class_names=dt_clf.classes_, \n",
    "                filled=True, \n",
    "                leaves_parallel=True, \n",
    "                rotate=False, \n",
    "                rounded=True)"
   ]
  },
  {
   "cell_type": "code",
   "execution_count": 85,
   "metadata": {},
   "outputs": [
    {
     "data": {
      "text/plain": [
       "[('AwaitingTime_0-1', 0.93914270560663127),\n",
       " ('Age_60-120', 0.046322106140606743),\n",
       " ('Weekday_0', 0.014535188252761904),\n",
       " ('Weekday_2', 0.0),\n",
       " ('Weekday_3', 0.0),\n",
       " ('Weekday_1', 0.0),\n",
       " ('Hipertension', 0.0),\n",
       " ('Weekday_4', 0.0),\n",
       " ('Weekday_5', 0.0),\n",
       " ('ScheduledHour_10-15', 0.0),\n",
       " ('Gender_M', 0.0),\n",
       " ('follow-up', 0.0),\n",
       " ('Age_15-60', 0.0),\n",
       " ('Alcoholism', 0.0),\n",
       " ('ScheduledHour_15-23', 0.0),\n",
       " ('ScheduledHour_5-10', 0.0),\n",
       " ('AwaitingTime_30-99999', 0.0),\n",
       " ('Diabetes', 0.0),\n",
       " ('Scholarship', 0.0),\n",
       " ('AwaitingTime_1-7', 0.0),\n",
       " ('AwaitingTime_7-30', 0.0),\n",
       " ('SMS_received', 0.0),\n",
       " ('Age_3-15', 0.0),\n",
       " ('Age_0-3', 0.0)]"
      ]
     },
     "execution_count": 85,
     "metadata": {},
     "output_type": "execute_result"
    }
   ],
   "source": [
    "d_importances = dict(zip(X_train.columns, dt_gs_clf.feature_importances_))\n",
    "sorted(d_importances.items(), key=lambda item: item[1], reverse=True)"
   ]
  },
  {
   "cell_type": "markdown",
   "metadata": {},
   "source": [
    "### Using the pipeline"
   ]
  },
  {
   "cell_type": "markdown",
   "metadata": {},
   "source": [
    "> **NOTE:** Again - we are going back to use **_medical_\\__prep_** (instead of **_medical_**)."
   ]
  },
  {
   "cell_type": "code",
   "execution_count": 86,
   "metadata": {},
   "outputs": [],
   "source": [
    "X_train, X_test, y_train, y_test = \\\n",
    "    train_test_split(medical_prep.drop('No-show', axis=1), medical_prep['No-show'], \n",
    "                     train_size=0.7, test_size=0.3, random_state=1234)"
   ]
  },
  {
   "cell_type": "code",
   "execution_count": 87,
   "metadata": {},
   "outputs": [],
   "source": [
    "dt_pipeline = Pipeline([('transformer_pipeline', transformer_pipeline), \n",
    "                        ('dt_clf', dt_clf)])"
   ]
  },
  {
   "cell_type": "code",
   "execution_count": 88,
   "metadata": {},
   "outputs": [],
   "source": [
    "# sorted(dt_pipeline.get_params().keys())"
   ]
  },
  {
   "cell_type": "code",
   "execution_count": 89,
   "metadata": {},
   "outputs": [
    {
     "name": "stdout",
     "output_type": "stream",
     "text": [
      "Scores: [ 0.66264812  0.67352426  0.66089911  0.65489737  0.66974391  0.66187836\n",
      "  0.65224758  0.64006609  0.65082422  0.66368708]\n",
      "Mean: 0.659041608948\n",
      "Std: 0.00928062702904\n"
     ]
    }
   ],
   "source": [
    "scores = cross_val_score(dt_pipeline, X_train, y_train, scoring=my_fbeta_score, cv=10)\n",
    "show_cv_summary(scores)"
   ]
  },
  {
   "cell_type": "markdown",
   "metadata": {
    "collapsed": true
   },
   "source": [
    "#### Grid search"
   ]
  },
  {
   "cell_type": "code",
   "execution_count": 90,
   "metadata": {},
   "outputs": [],
   "source": [
    "param_grid = \\\n",
    "    {'transformer_pipeline__digitizer_pipeline__age_digitizer__bins': \n",
    "     [[0, 1, 6, 18, 120], [0, 1, 6, 120], [0, 6, 18, 120], [0, 1, 18, 120]],\n",
    "     'transformer_pipeline__digitizer_pipeline__awaiting_time_digitizer__bins': \n",
    "     [[0, 1, 7, 99999], [0, 1, 14, 99999], [0, 1, 30, 99999], [0, 1, 7, 30, 99999]],\n",
    "     'dt_clf__max_depth': [2], \n",
    "     'dt_clf__min_samples_split': [20], \n",
    "     'dt_clf__min_samples_leaf': [10]}"
   ]
  },
  {
   "cell_type": "markdown",
   "metadata": {},
   "source": [
    "> **NOTE 1:** We can't apply the result of the previous grid search, because the decision tree may use the data differently.\n",
    "\n",
    "> **NOTE 2:** In general we can reduce the size of the grid by \"zooming-in\" on the values from the simple grid search. After the reducion we are left with $4\\times 4\\times 1\\times 1\\times 1\\times 3=384$ models. It is advised to \"open\" the grid again for the classifier hyper-parameters, but we skip it in this tutorial, because it results in a prohibitive number of models."
   ]
  },
  {
   "cell_type": "code",
   "execution_count": 91,
   "metadata": {},
   "outputs": [
    {
     "data": {
      "text/plain": [
       "GridSearchCV(cv=3, error_score='raise',\n",
       "       estimator=Pipeline(memory=None,\n",
       "     steps=[('transformer_pipeline', Pipeline(memory=None,\n",
       "     steps=[('digitizer_pipeline', Pipeline(memory=None,\n",
       "     steps=[('scheduled_hour_digitizer', Digitizer(bins=[5, 10, 15, 23], colname='ScheduledHour')), ('awaiting_time_digitizer', Digitizer(bins=[0, 1, 7, 30, 99999], colname='AwaitingTime'))...      min_weight_fraction_leaf=0.0, presort=False, random_state=None,\n",
       "            splitter='best'))]),\n",
       "       fit_params=None, iid=True, n_jobs=1,\n",
       "       param_grid={'transformer_pipeline__digitizer_pipeline__age_digitizer__bins': [[0, 1, 6, 18, 120], [0, 1, 6, 120], [0, 6, 18, 120], [0, 1, 18, 120]], 'dt_clf__min_samples_split': [20], 'dt_clf__max_depth': [2], 'transformer_pipeline__digitizer_pipeline__awaiting_time_digitizer__bins': [[0, 1, 7, 99999], [0, 1, 14, 99999], [0, 1, 30, 99999], [0, 1, 7, 30, 99999]], 'dt_clf__min_samples_leaf': [10]},\n",
       "       pre_dispatch='2*n_jobs', refit=True, return_train_score='warn',\n",
       "       scoring=make_scorer(fbeta_score, beta=2.86206896552, pos_label=Yes),\n",
       "       verbose=0)"
      ]
     },
     "execution_count": 91,
     "metadata": {},
     "output_type": "execute_result"
    }
   ],
   "source": [
    "dt_gs = GridSearchCV(dt_pipeline, param_grid=param_grid, scoring=my_fbeta_score, cv=3)\n",
    "dt_gs.fit(X_train, y_train)"
   ]
  },
  {
   "cell_type": "code",
   "execution_count": 92,
   "metadata": {},
   "outputs": [],
   "source": [
    "# pprint(dt_gs.cv_results_)"
   ]
  },
  {
   "cell_type": "code",
   "execution_count": 93,
   "metadata": {},
   "outputs": [
    {
     "data": {
      "text/plain": [
       "Pipeline(memory=None,\n",
       "     steps=[('transformer_pipeline', Pipeline(memory=None,\n",
       "     steps=[('digitizer_pipeline', Pipeline(memory=None,\n",
       "     steps=[('scheduled_hour_digitizer', Digitizer(bins=[5, 10, 15, 23], colname='ScheduledHour')), ('awaiting_time_digitizer', Digitizer(bins=[0, 1, 7, 99999], colname='AwaitingTime')), ('...      min_weight_fraction_leaf=0.0, presort=False, random_state=None,\n",
       "            splitter='best'))])"
      ]
     },
     "execution_count": 93,
     "metadata": {},
     "output_type": "execute_result"
    }
   ],
   "source": [
    "dt_gs_clf = dt_gs.best_estimator_\n",
    "dt_gs_clf"
   ]
  },
  {
   "cell_type": "markdown",
   "metadata": {},
   "source": [
    "We shouldn't forget we must validate the "
   ]
  },
  {
   "cell_type": "code",
   "execution_count": 94,
   "metadata": {},
   "outputs": [
    {
     "name": "stdout",
     "output_type": "stream",
     "text": [
      "Scores: [ 0.72151542  0.73200837  0.7200782   0.71512764  0.71481831  0.7135069\n",
      "  0.72356661  0.71361278  0.70365928  0.71088372]\n",
      "Mean: 0.716877722983\n",
      "Std: 0.00738519165794\n"
     ]
    }
   ],
   "source": [
    "scores = cross_val_score(dt_gs_clf, X_train, y_train, scoring=my_fbeta_score, cv=10)\n",
    "show_cv_summary(scores)"
   ]
  },
  {
   "cell_type": "code",
   "execution_count": 95,
   "metadata": {},
   "outputs": [],
   "source": [
    "y_pred = dt_gs_clf.fit(X_train, y_train).predict(X_train)"
   ]
  },
  {
   "cell_type": "code",
   "execution_count": 96,
   "metadata": {},
   "outputs": [
    {
     "data": {
      "text/html": [
       "<div>\n",
       "<style scoped>\n",
       "    .dataframe tbody tr th:only-of-type {\n",
       "        vertical-align: middle;\n",
       "    }\n",
       "\n",
       "    .dataframe tbody tr th {\n",
       "        vertical-align: top;\n",
       "    }\n",
       "\n",
       "    .dataframe thead th {\n",
       "        text-align: right;\n",
       "    }\n",
       "</style>\n",
       "<table border=\"1\" class=\"dataframe\">\n",
       "  <thead>\n",
       "    <tr style=\"text-align: right;\">\n",
       "      <th></th>\n",
       "      <th>No</th>\n",
       "      <th>Yes</th>\n",
       "    </tr>\n",
       "  </thead>\n",
       "  <tbody>\n",
       "    <tr>\n",
       "      <th>No</th>\n",
       "      <td>28589</td>\n",
       "      <td>33124</td>\n",
       "    </tr>\n",
       "    <tr>\n",
       "      <th>Yes</th>\n",
       "      <td>2004</td>\n",
       "      <td>13647</td>\n",
       "    </tr>\n",
       "  </tbody>\n",
       "</table>\n",
       "</div>"
      ],
      "text/plain": [
       "        No    Yes\n",
       "No   28589  33124\n",
       "Yes   2004  13647"
      ]
     },
     "execution_count": 96,
     "metadata": {},
     "output_type": "execute_result"
    }
   ],
   "source": [
    "cmat = confusion_matrix(y_true=y_train, y_pred=y_pred, labels=dt_gs_clf.classes_)\n",
    "pd.DataFrame(cmat, index=dt_gs_clf.classes_, columns=dt_gs_clf.classes_)"
   ]
  },
  {
   "cell_type": "code",
   "execution_count": 97,
   "metadata": {},
   "outputs": [
    {
     "data": {
      "text/plain": [
       "0.71687621450023664"
      ]
     },
     "execution_count": 97,
     "metadata": {},
     "output_type": "execute_result"
    }
   ],
   "source": [
    "fbeta_score(y_true=y_train, y_pred=y_pred, beta=my_beta, pos_label='Yes')"
   ]
  },
  {
   "cell_type": "markdown",
   "metadata": {},
   "source": [
    "This time the grid search didn't improve our score..."
   ]
  },
  {
   "cell_type": "markdown",
   "metadata": {},
   "source": [
    "## Voting"
   ]
  },
  {
   "cell_type": "code",
   "execution_count": 98,
   "metadata": {},
   "outputs": [],
   "source": [
    "voter_clf = VotingClassifier(estimators=[('lr', lr_gs_clf), ('dt', dt_gs_clf)], \n",
    "                             voting='soft')"
   ]
  },
  {
   "cell_type": "code",
   "execution_count": 99,
   "metadata": {},
   "outputs": [
    {
     "name": "stdout",
     "output_type": "stream",
     "text": [
      "Scores: [ 0.72151542  0.73200837  0.7200782   0.71512764  0.71481831  0.7135069\n",
      "  0.72356661  0.71361278  0.70365928  0.71088372]\n",
      "Mean: 0.716877722983\n",
      "Std: 0.00738519165794\n"
     ]
    }
   ],
   "source": [
    "scores = cross_val_score(voter_clf, X_train, y_train, scoring=my_fbeta_score, cv=10)\n",
    "show_cv_summary(scores)"
   ]
  }
 ],
 "metadata": {
  "anaconda-cloud": {},
  "kernelspec": {
   "display_name": "Python 3",
   "language": "python",
   "name": "python3"
  },
  "language_info": {
   "codemirror_mode": {
    "name": "ipython",
    "version": 3
   },
   "file_extension": ".py",
   "mimetype": "text/x-python",
   "name": "python",
   "nbconvert_exporter": "python",
   "pygments_lexer": "ipython3",
   "version": "3.5.5"
  }
 },
 "nbformat": 4,
 "nbformat_minor": 1
}
